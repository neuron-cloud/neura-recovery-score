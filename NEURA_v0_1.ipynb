{
 "cells": [
  {
   "cell_type": "markdown",
   "id": "9404157a",
   "metadata": {},
   "source": [
    "# NEURA Recovery Risk Score (v0.1)\n",
    "This Colab notebook simulates the NEURA AI engine to calculate a recovery risk score for a patient based on unstructured clinical notes.\n",
    "\n",
    "**Instructions:**\n",
    "- Paste your OpenAI API key where indicated\n",
    "- Run each cell in order\n",
    "- Review the AI-generated recovery forecast and risk score"
   ]
  },
  {
   "cell_type": "code",
   "execution_count": null,
   "id": "8149b6f8",
   "metadata": {},
   "outputs": [],
   "source": [
    "!pip install --quiet openai"
   ]
  },
  {
   "cell_type": "code",
   "execution_count": null,
   "id": "0ae5849d",
   "metadata": {},
   "outputs": [],
   "source": [
    "from openai import OpenAI\n",
    "\n",
    "# Replace with your actual OpenAI API key\n",
    "client = OpenAI(api_key=\"sk-proj-xxxxxxxxxxxxxxxxxxxxxxxx\")"
   ]
  },
  {
   "cell_type": "code",
   "execution_count": null,
   "id": "d4a45700",
   "metadata": {},
   "outputs": [],
   "source": [
    "def build_prompt(case_text):\n",
    "    return f\"\"\"\n",
    "You are a clinical recovery forecasting assistant.\n",
    "\n",
    "Given the following patient case, perform the following steps:\n",
    "1. Identify and rate the patient's risk in the following domains (0–10):\n",
    "   - Cognitive\n",
    "   - Emotional\n",
    "   - Functional\n",
    "   - Adherence\n",
    "   - Social\n",
    "2. Provide a rationale for each score.\n",
    "3. Calculate the weighted total score based on:\n",
    "   - Cognitive (30%)\n",
    "   - Emotional (25%)\n",
    "   - Functional (20%)\n",
    "   - Adherence (15%)\n",
    "   - Social (10%)\n",
    "4. Label the final risk as:\n",
    "   - Low (<40)\n",
    "   - Moderate (40–69)\n",
    "   - High (70+)\n",
    "\n",
    "Case:\n",
    "{case_text}\n",
    "\"\"\""
   ]
  },
  {
   "cell_type": "code",
   "execution_count": null,
   "id": "a6419f43",
   "metadata": {},
   "outputs": [],
   "source": [
    "def get_recovery_risk_score(case_text):\n",
    "    prompt = build_prompt(case_text)\n",
    "    response = client.chat.completions.create(\n",
    "        model=\"gpt-4\",\n",
    "        messages=[\n",
    "            {\"role\": \"system\", \"content\": \"You are a helpful clinical recovery assistant.\"},\n",
    "            {\"role\": \"user\", \"content\": prompt}\n",
    "        ]\n",
    "    )\n",
    "    return response.choices[0].message.content"
   ]
  },
  {
   "cell_type": "code",
   "execution_count": null,
   "id": "9e692f02",
   "metadata": {},
   "outputs": [],
   "source": [
    "example_case = '''\n",
    "38F no PMH p/t RUMC w/HA x1 yr worsening in last 2 months, CTH w/Lt frontotemporal lesion extending into Lt thalamus,\n",
    "w/8mm Rt MLS, mild obstructive hydro. Pt reports intermittent WFD and intermittent confusion x2mo. No ACAP.\n",
    "H/H 8.4/27.9, PLT 404, Coags pending. Exam - intact\n",
    "'''\n",
    "\n",
    "output = get_recovery_risk_score(example_case)\n",
    "print(output)"
   ]
  },
  {
   "cell_type": "markdown",
   "id": "321c221b",
   "metadata": {},
   "source": [
    "## Recovery OS (Patient Layer)\n",
    "This step simulates NEURA's personalized recovery support engine for patients. It generates journaling prompts and recovery guidance based on the same case used for clinical risk scoring."
   ]
  },
  {
   "cell_type": "code",
   "execution_count": null,
   "id": "c0a49db6",
   "metadata": {},
   "outputs": [],
   "source": [
    "def build_patient_prompt(case_text):\n",
    "    return f\"\"\"\n",
    "You are a compassionate recovery assistant helping a patient emotionally process a recent surgery or hospitalization.\n",
    "\n",
    "Given the patient's case, generate the following:\n",
    "1. Three personalized journaling prompts\n",
    "2. Two emotional recovery tips\n",
    "3. One daily check-in question\n",
    "\n",
    "The tone should be supportive, warm, and psychologically aware. Avoid clinical jargon.\n",
    "\n",
    "Case:\n",
    "{case_text}\n",
    "\"\"\""
   ]
  },
  {
   "cell_type": "code",
   "execution_count": null,
   "id": "ce2333a4",
   "metadata": {},
   "outputs": [],
   "source": [
    "def get_recovery_support(case_text):\n",
    "    prompt = build_patient_prompt(case_text)\n",
    "    response = client.chat.completions.create(\n",
    "        model=\"gpt-4o\",\n",
    "        messages=[\n",
    "            {\"role\": \"system\", \"content\": \"You are a kind and emotionally intelligent assistant.\"},\n",
    "            {\"role\": \"user\", \"content\": prompt}\n",
    "        ]\n",
    "    )\n",
    "    return response.choices[0].message.content"
   ]
  },
  {
   "cell_type": "code",
   "execution_count": null,
   "id": "2267bd8a",
   "metadata": {},
   "outputs": [],
   "source": [
    "# Run the Recovery OS layer on the same example case\n",
    "patient_output = get_recovery_support(example_case)\n",
    "print(patient_output)"
   ]
  }
 ],
 "metadata": {},
 "nbformat": 4,
 "nbformat_minor": 5
}
